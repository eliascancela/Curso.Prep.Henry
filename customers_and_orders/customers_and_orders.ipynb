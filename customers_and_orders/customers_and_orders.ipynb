{
  "cells": [
    {
      "cell_type": "markdown",
      "metadata": {
        "id": "piiX_CRNFYUi"
      },
      "source": [
        "# Technical Challenge ! Custiomers and Orders - The lifeblood of any business!\n",
        "\n",
        "This notebook depends on two data files: customers.scv and orders.csv. These files are hosted in the cloud (or Github), so for simplicity, we are providing you with the code to download and save the two files in a folder called 'sample_data' which lives within this notebook session (not on your local computer nor Google Drive).\n",
        "\n",
        "![sample_data folder in notebook session](https://raw.githubusercontent.com/anyoneai/notebooks/main/customers_and_orders/images/sample_data_folder.png)\n",
        "\n",
        "Please execute the first code snippet before moving to the rest of the exercise as this code will import the data from the files for you to be able to execute the rest of the exercise.\n",
        "\n",
        "Remember as we said in the previous lecture, you have to save this notebook into your Google Drive by going to menu File/Save a Copy In Drive, or clicking in the button \"Copy to Drive\". This way, you will not lose any work you've done and the file will persist with your latest changes in your Google Drive. Also we recommend you to rename your .ipynb in your Google Drive, so you can easily find it in the future."
      ]
    },
    {
      "cell_type": "code",
      "execution_count": 1,
      "metadata": {
        "colab": {
          "base_uri": "https://localhost:8080/"
        },
        "id": "MWpVO242FQHC",
        "outputId": "bfaf90c5-3373-4ff4-932e-d1b2fc48dc27"
      },
      "outputs": [
        {
          "output_type": "stream",
          "name": "stdout",
          "text": [
            "Customers and orders CSV files have been added './sample_data'\n"
          ]
        }
      ],
      "source": [
        "import requests\n",
        "\n",
        "def import_data_files():\n",
        "  r = requests.get('https://raw.githubusercontent.com/anyoneai/notebooks/main/customers_and_orders/data/customers.csv')\n",
        "  with open('./sample_data/customers.csv', 'wb') as f:\n",
        "    f.write(r.content)\n",
        "\n",
        "  r = requests.get('https://raw.githubusercontent.com/anyoneai/notebooks/main/customers_and_orders/data/orders.csv')\n",
        "  with open('./sample_data/orders.csv', 'wb') as f:\n",
        "    f.write(r.content)\n",
        "\n",
        "import_data_files()\n",
        "print(\"Customers and orders CSV files have been added './sample_data'\")"
      ]
    },
    {
      "cell_type": "markdown",
      "metadata": {
        "id": "JQAduY-RWKyB"
      },
      "source": [
        "# Exercise 1: Processing Customers data (difficulty medium)\n",
        "\n",
        "The sample customer data in 'customers.csv' file has just 5 columns: CustomerId, First Name, Last Name, City and State\n",
        "\n",
        "![Data sample](https://raw.githubusercontent.com/anyoneai/notebooks/main/customers_and_orders/images/customers.png)\n",
        "\n",
        "We strongly recommend that you complete from the [Prep Course: Intro to Python](https://colab.research.google.com/github/anyoneai/notebooks/blob/main/python3_crash_course.ipynb) the following section:\n",
        "- Section 7: File I/O (to understand how to read CSV file)\n",
        "- Section 6: For Loop (to navigate the contents of the CSV file)\n",
        "- Section 5: Tuples, Lists, and Dictionaries (to manipulate the data of the CSV file)\n",
        "\n",
        "With this, we hope you can complete this exercise successfully. Although if you want to solve this with libraries or any other way, you are welcome to do it your way.\n",
        "\n",
        "*Hint:* We advise you to take a look at the data before you start.\n",
        "**if you want to manually take a look at the data before you start, please see the content of the data [here](https://github.com/anyoneai/notebooks/blob/main/customers_and_orders/data/customers.csv).\n",
        "\n",
        "*Hint*: There are many ways to do this exercise you can do your own, although here's some help. You can solve this exercise reading and parsing CSV files, structuring data into dictionaries, and using for loops to navigate the contents\n",
        "\n",
        "*Hint*: Also, keep in mind that data might not be clean and you might have to figure out how to deal with that data from the code, without having to modify the data source.\n",
        "\n",
        "Below are the 5 questions you'll have to answer to pass the evaluation:"
      ]
    },
    {
      "cell_type": "markdown",
      "metadata": {
        "id": "kJq7S8sBfbOW"
      },
      "source": [
        "**Question 1:** How many customers are in the file?\n",
        "(as help, we have added some comments and starter code to help you structure the solution)"
      ]
    },
    {
      "cell_type": "code",
      "execution_count": null,
      "metadata": {
        "id": "oMnUFBFb2RUb"
      },
      "outputs": [],
      "source": [
        "from os.path import exists\n",
        "import csv\n",
        "\n",
        "# check if file can be found and open the file\n",
        "datafile = \"./sample_data/customers.csv\"\n",
        "if not exists(datafile):\n",
        "  raise SystemExit(\"You should run the first code cell and download the dataset files!\")\n",
        "\n",
        "# customers file is in the sample_data folder and can be opened.\n",
        "# Using csv reader is one way of dealing with the file\n",
        "# but it's up to you how you want to proceed\n",
        "with open(datafile, 'r') as fl:\n",
        "  csvreader = csv.reader(fl, delimiter=',')\n",
        "\n",
        "\n",
        "\n",
        "\n",
        "\n",
        "  # loop through the rows and count etc. THE REST IS UP TO YOU!\n",
        "\n",
        "\n",
        "print(\"All done!\")"
      ]
    },
    {
      "cell_type": "markdown",
      "metadata": {
        "id": "uffBnNgz_570"
      },
      "source": [
        "**Question 2:** In how many different states do the customers live in?"
      ]
    },
    {
      "cell_type": "code",
      "execution_count": 56,
      "metadata": {
        "id": "Bi_yid0sMe3-",
        "colab": {
          "base_uri": "https://localhost:8080/"
        },
        "outputId": "23c81e59-67b5-42e2-f813-447c7ccf58a2"
      },
      "outputs": [
        {
          "output_type": "stream",
          "name": "stdout",
          "text": [
            "['CA' 'AZ' 'NV' 'FL' 'CA           ' 'WA' 'NH' 'ID' 'CO' 'Ca' 'TX' 'NM'\n",
            " 'OR' 'UT' 'MA' 'IN']\n",
            "The number of different states the customers live in is: 16\n"
          ]
        }
      ],
      "source": [
        "\n",
        "unique_states = df['State'].unique()\n",
        "\n",
        "num_unique_states = 0\n",
        "\n",
        "\n",
        "for state in unique_states:\n",
        "    num_unique_states += 1\n",
        "\n",
        "print(unique_states)\n",
        "print(f\"The number of different states the customers live in is: {num_unique_states}\")"
      ]
    },
    {
      "cell_type": "markdown",
      "metadata": {
        "id": "DC59SZYiMfNY"
      },
      "source": [
        "**Question 3** What is the state with most customers?"
      ]
    },
    {
      "cell_type": "code",
      "execution_count": 35,
      "metadata": {
        "id": "tfGU3w-OMhA9",
        "colab": {
          "base_uri": "https://localhost:8080/"
        },
        "outputId": "225d2d5e-ccea-4293-f5cd-722adf516a9d"
      },
      "outputs": [
        {
          "output_type": "stream",
          "name": "stdout",
          "text": [
            "562\n",
            "['CA']\n"
          ]
        }
      ],
      "source": [
        "\n",
        "state_counts = df['State'].value_counts()\n",
        "most_customers_count = state_counts.max()\n",
        "most_customers_states = state_counts[state_counts == most_customers_count].index.tolist()\n",
        "print(most_customers_count)\n",
        "\n",
        "\n",
        "print(most_customers_states)\n"
      ]
    },
    {
      "cell_type": "markdown",
      "metadata": {
        "id": "7mcM6cUAMhLB"
      },
      "source": [
        "**Question 4** What is the state with the least customers?"
      ]
    },
    {
      "cell_type": "code",
      "execution_count": 36,
      "metadata": {
        "id": "8T0Ka2RqMi3P",
        "colab": {
          "base_uri": "https://localhost:8080/"
        },
        "outputId": "111a077c-224d-489a-f39f-7531e40f83b4"
      },
      "outputs": [
        {
          "output_type": "stream",
          "name": "stdout",
          "text": [
            "1\n",
            "['WA', 'NH', 'ID', 'OR', 'MA', 'IN']\n"
          ]
        }
      ],
      "source": [
        "state_counts = df['State'].value_counts()\n",
        "minimun_customers_count = state_counts.min()\n",
        "minimun_customers_states = state_counts[state_counts == minimun_customers_count].index.tolist()\n",
        "print(minimun_customers_count)\n",
        "\n",
        "\n",
        "print(minimun_customers_states)"
      ]
    },
    {
      "cell_type": "markdown",
      "metadata": {
        "id": "h6fIy7hXHF6A"
      },
      "source": [
        "**Question 5:** What is the most common last name?"
      ]
    },
    {
      "cell_type": "code",
      "source": [],
      "metadata": {
        "id": "iqlECpOCujtX"
      },
      "execution_count": null,
      "outputs": []
    },
    {
      "cell_type": "code",
      "execution_count": 54,
      "metadata": {
        "id": "k8M1DmA75Km7",
        "colab": {
          "base_uri": "https://localhost:8080/"
        },
        "outputId": "91e02457-cccf-4471-a223-f22e431ed2bf"
      },
      "outputs": [
        {
          "output_type": "stream",
          "name": "stdout",
          "text": [
            "['Smith']\n",
            "LastName\n",
            "Smith       8\n",
            "Doggett     5\n",
            "Gomez       5\n",
            "Zambrana    5\n",
            "Johnson     4\n",
            "           ..\n",
            "Merle       1\n",
            "Valdez      1\n",
            "Muggy       1\n",
            "Persky      1\n",
            "Tan         1\n",
            "Name: count, Length: 424, dtype: int64\n",
            "['Smith']\n"
          ]
        }
      ],
      "source": [
        "name_counts = df['LastName'].value_counts()\n",
        "maxlastname_counts = name_counts.max()\n",
        "most_common_lastname = name_counts[name_counts == maxlastname_counts].index.tolist()\n",
        "print(most_common_lastname)\n",
        "print(name_counts)\n",
        "\n",
        "print(most_common_lastname)"
      ]
    },
    {
      "cell_type": "code",
      "source": [
        "\n",
        "smith_customers = df[df['LastName'] == \"Smith\"]\n",
        "\n",
        "\n",
        "number_of_smiths = len(smith_customers)\n",
        "\n",
        "\n",
        "print(f\"The number of customers with the last name 'Smith' is: {number_of_smiths}\")"
      ],
      "metadata": {
        "colab": {
          "base_uri": "https://localhost:8080/"
        },
        "id": "iBxCIFm5uono",
        "outputId": "63ca13d3-c650-4464-8e0d-ebec456b51e3"
      },
      "execution_count": 51,
      "outputs": [
        {
          "output_type": "stream",
          "name": "stdout",
          "text": [
            "The number of customers with the last name 'Smith' is: 8\n"
          ]
        }
      ]
    },
    {
      "cell_type": "markdown",
      "metadata": {
        "id": "YPRma1t9NoFk"
      },
      "source": [
        "# Exercise 2: Processing Orders data (difficulty high)\n",
        "\n",
        "The second sample files contains orders placed by customers from the first file. Be careful, this file has many rows and you most likely should not print the contents of the whole file.\n",
        "\n",
        "The file contains the following columns: CustomerID, OrderID, Date, OrderTotal, ProductName, Price\n",
        "\n",
        "![Data sample](https://raw.githubusercontent.com/anyoneai/notebooks/main/customers_and_orders/images/orders.png)\n",
        "\n",
        "*Hint:* We advise you to take a look at the data before you start.\n",
        "**if you want to manually take a look at the data before you start, please see the content of the data [here](https://raw.githubusercontent.com/anyoneai/notebooks/main/customers_and_orders/data/orders.csv).\n",
        "\n",
        "*Hint*: There are many ways to do this exercise you can do your own, although here's some help. You can solve this exercise reading and parsing CSV files, structuring data into dictionaries, and using for loops to navigate the contents\n",
        "\n",
        "*Hint*: Also, the data is not clean and you will have to figure out how to deal with that data from the code, without having to modify the data source.\n",
        "\n",
        "\n",
        "\n",
        "**Question #1:** How many unique orders are in the orders.csv file?\n",
        "\n",
        "**Question #2:** What is the average number of items per order (rounded to two decimal places)?\n",
        "\n",
        "**Question #3:** What is the highest number of items per order?\n",
        "\n",
        "**Question #4:** What is the number of orders placed in October 2021?\n",
        "\n",
        "**Question #5:** Which customer spent the most amount of money in 2021?\n",
        "\n",
        "**Question #6:** Historically, what is the best month for sales?\n",
        "\n",
        "Once you get your answers, remember to go back to the course and introduce them in the multiple choice quiz"
      ]
    },
    {
      "cell_type": "code",
      "execution_count": 57,
      "metadata": {
        "id": "8ipJTrfs5QVM",
        "colab": {
          "base_uri": "https://localhost:8080/"
        },
        "outputId": "ef56bac6-1470-4e58-be4f-6d8ae6786ff9"
      },
      "outputs": [
        {
          "output_type": "stream",
          "name": "stdout",
          "text": [
            "All done!\n"
          ]
        }
      ],
      "source": [
        "from os.path import exists\n",
        "import csv\n",
        "\n",
        "# check if file can be found and open the file\n",
        "datafile = \"./sample_data/orders.csv\"\n",
        "if not exists(datafile):\n",
        "  raise SystemExit(\"You should run the first code cell and download the dataset files!\")\n",
        "\n",
        "# customers file is in the sample_data folder and can be opened.\n",
        "# Using csv reader is one way of dealing with the file\n",
        "# but it's up to you how you want to proceed\n",
        "with open(datafile, 'r') as fl:\n",
        "  csvreader = csv.reader(fl, delimiter=',')\n",
        "\n",
        "\n",
        "\n",
        "\n",
        "\n",
        "  # loop through the rows and count etc. THE REST IS UP TO YOU!\n",
        "\n",
        "\n",
        "print(\"All done!\")"
      ]
    },
    {
      "cell_type": "code",
      "source": [
        "import pandas as pd\n",
        "\n",
        "\n",
        "df_orders = pd.read_csv(\"./sample_data/orders.csv\")\n",
        "print(df_orders)\n",
        "\n",
        "num_unique_orders = df_orders['OrderID'].nunique()\n",
        "\n",
        "\n",
        "print(f\"The number of unique orders in the orders.csv file is: {num_unique_orders}\")"
      ],
      "metadata": {
        "colab": {
          "base_uri": "https://localhost:8080/"
        },
        "id": "d6tjzMW22sUi",
        "outputId": "cbc05120-fa0b-4ae0-8549-642684606091"
      },
      "execution_count": 80,
      "outputs": [
        {
          "output_type": "stream",
          "name": "stdout",
          "text": [
            "       CustomerID  OrderID                     Date  OrderTotal  ProductName  \\\n",
            "0            8091  7742581  2021-07-26 14:40:10.783        95.0          Z03   \n",
            "1          902139  7742778  2021-08-08 05:01:21.120        60.0     0844 A/C   \n",
            "2         2300266  7742593  2021-07-27 11:00:16.020       185.0          M07   \n",
            "3         2300266  7742593  2021-07-27 11:00:16.020       185.0          M09   \n",
            "4         5173013  7742609  2021-07-28 14:26:13.930       165.0         0324   \n",
            "...           ...      ...                      ...         ...          ...   \n",
            "29289     5415451  7791815  2022-02-07 14:37:30.567         0.0  Circle #041   \n",
            "29290     5415483  7791820  2022-02-07 15:55:55.260       132.0         HH33   \n",
            "29291     5415485  7791822  2022-02-07 16:23:05.940       132.0         3568   \n",
            "29292     4300695  7791824  2022-02-07 16:55:33.343       157.0         0414   \n",
            "29293     5415503  7791848  2022-02-09 10:36:56.553       132.0         PP22   \n",
            "\n",
            "       Price  \n",
            "0       90.0  \n",
            "1       60.0  \n",
            "2       90.0  \n",
            "3       90.0  \n",
            "4      160.0  \n",
            "...      ...  \n",
            "29289    0.0  \n",
            "29290  125.0  \n",
            "29291  125.0  \n",
            "29292  150.0  \n",
            "29293  125.0  \n",
            "\n",
            "[29294 rows x 6 columns]\n",
            "The number of unique orders in the orders.csv file is: 16672\n"
          ]
        }
      ]
    },
    {
      "cell_type": "code",
      "source": [
        "\n",
        "items_per_order = df_orders.groupby('OrderID').size()\n",
        "\n",
        "print(items_per_order)\n",
        "average_items_per_order = items_per_order.mean()\n",
        "\n",
        "\n",
        "average_items_per_order = round(average_items_per_order, 2)\n",
        "\n",
        "print(f\"The average number of items per order is: {average_items_per_order}\")\n",
        "highnumber_items_per_order=items_per_order.max()\n",
        "\n",
        "print(highnumber_items_per_order)"
      ],
      "metadata": {
        "colab": {
          "base_uri": "https://localhost:8080/"
        },
        "id": "enz-H1k27Krh",
        "outputId": "fbf7f554-1738-424e-f3dc-a2d0db1378ab"
      },
      "execution_count": 76,
      "outputs": [
        {
          "output_type": "stream",
          "name": "stdout",
          "text": [
            "OrderID\n",
            "5038       1\n",
            "5052       2\n",
            "5058       2\n",
            "5126       1\n",
            "5130       2\n",
            "          ..\n",
            "7791846    1\n",
            "7791847    1\n",
            "7791848    1\n",
            "7791849    3\n",
            "7791850    3\n",
            "Length: 16672, dtype: int64\n",
            "The average number of items per order is: 1.76\n",
            "35\n"
          ]
        }
      ]
    },
    {
      "cell_type": "code",
      "source": [],
      "metadata": {
        "id": "7SCv2U2P97gE"
      },
      "execution_count": 81,
      "outputs": []
    },
    {
      "cell_type": "code",
      "source": [
        "\n",
        "df_orders['Date'] = pd.to_datetime(df_orders['Date'])\n",
        "\n",
        "\n",
        "orders_october_2021 = df_orders[(df_orders['Date'] >= '2021-10-01') & (df_orders['Date'] < '2021-11-01')]\n",
        "\n",
        "\n",
        "number_of_orders_october_2021 = len(orders_october_2021)\n",
        "\n",
        "\n",
        "print(f\"The number of orders placed in October 2021 is: {number_of_orders_october_2021}\")"
      ],
      "metadata": {
        "colab": {
          "base_uri": "https://localhost:8080/"
        },
        "id": "3MLYRA_a_U9U",
        "outputId": "bfec1edb-bc38-45b9-c526-7d5323f20ad9"
      },
      "execution_count": 82,
      "outputs": [
        {
          "output_type": "stream",
          "name": "stdout",
          "text": [
            "The number of orders placed in October 2021 is: 437\n"
          ]
        }
      ]
    },
    {
      "cell_type": "code",
      "source": [
        "\n",
        "df_orders['Date'] = pd.to_datetime(df_orders['Date'])\n",
        "\n",
        "df_orders['OrderYear'] = df_orders['Date'].dt.year\n",
        "\n",
        "\n",
        "orders_2021 = df_orders[df_orders['OrderYear'] == 2021]\n",
        "\n",
        "\n",
        "customer_spending = orders_2021.groupby('CustomerID')['OrderTotal'].sum()\n",
        "\n",
        "\n",
        "customer_most_spent = customer_spending.idxmax()\n",
        "most_spent_amount = customer_spending.max()\n",
        "\n",
        "\n",
        "print(f\"The customer who spent the most amount of money in 2021 is: CustomerID {customer_most_spent} with a total of: {most_spent_amount}\")"
      ],
      "metadata": {
        "colab": {
          "base_uri": "https://localhost:8080/"
        },
        "id": "tFNrqZSBBOjy",
        "outputId": "e46b9ff2-9a3d-44d7-ff59-0802871ff95e"
      },
      "execution_count": 85,
      "outputs": [
        {
          "output_type": "stream",
          "name": "stdout",
          "text": [
            "The customer who spent the most amount of money in 2021 is: CustomerID 5464 with a total of: 56170.0\n"
          ]
        }
      ]
    },
    {
      "cell_type": "code",
      "source": [
        "\n",
        "df_orders = pd.read_csv(\"./sample_data/orders.csv\")\n",
        "\n",
        "\n",
        "df_orders['Date'] = pd.to_datetime(df_orders['Date'])\n",
        "\n",
        "\n",
        "df_orders['OrderYear'] = df_orders['Date'].dt.year\n",
        "\n",
        "\n",
        "orders_2021 = df_orders[df_orders['OrderYear'] == 2021]\n",
        "\n",
        "\n",
        "customer_4700014_orders = orders_2021[orders_2021['CustomerID'] == 4700014]\n",
        "\n",
        "\n",
        "total_spent_4700014 = customer_4700014_orders['OrderTotal'].sum()\n",
        "\n",
        "\n",
        "print(f\"Customer 5415408 spent in 2021: {total_spent_4700014}\")"
      ],
      "metadata": {
        "colab": {
          "base_uri": "https://localhost:8080/"
        },
        "id": "A4G6xVBoGcIv",
        "outputId": "ed318993-803f-42c6-d6e6-4eca939c1bee"
      },
      "execution_count": 88,
      "outputs": [
        {
          "output_type": "stream",
          "name": "stdout",
          "text": [
            "Customer 5415408 spent in 2021: 1042.0\n"
          ]
        }
      ]
    },
    {
      "cell_type": "code",
      "source": [
        "\n",
        "df_orders = pd.read_csv(\"./sample_data/orders.csv\")\n",
        "\n",
        "\n",
        "df_orders['Date'] = pd.to_datetime(df_orders['Date'])\n",
        "\n",
        "\n",
        "df_orders['OrderYear'] = df_orders['Date'].dt.year\n",
        "\n",
        "\n",
        "orders_2021 = df_orders[df_orders['OrderYear'] == 2021]\n",
        "\n",
        "\n",
        "customer_5415408_orders = orders_2021[orders_2021['CustomerID'] == 5415408]\n",
        "\n",
        "\n",
        "total_spent_5415408 = customer_5415408_orders['OrderTotal'].sum()\n",
        "\n",
        "\n",
        "print(f\"Customer 5415408 spent in 2021: {total_spent_5415408}\")"
      ],
      "metadata": {
        "colab": {
          "base_uri": "https://localhost:8080/"
        },
        "id": "KCg0OJftGbhJ",
        "outputId": "88c9d354-c1b3-4ade-b75d-a0fec79bf430"
      },
      "execution_count": 89,
      "outputs": [
        {
          "output_type": "stream",
          "name": "stdout",
          "text": [
            "Customer 5415408 spent in 2021: 0.0\n"
          ]
        }
      ]
    },
    {
      "cell_type": "code",
      "source": [
        "\n",
        "df_orders = pd.read_csv(\"./sample_data/orders.csv\")\n",
        "\n",
        "\n",
        "df_orders['Date'] = pd.to_datetime(df_orders['Date'])\n",
        "\n",
        "df_orders['Month'] = df_orders['Date'].dt.month\n",
        "\n",
        "\n",
        "sales_by_month = df_orders.groupby('Month')['OrderTotal'].sum()\n",
        "\n",
        "sales_by_month_sorted = sales_by_month.sort_values(ascending=False)\n",
        "\n",
        "\n",
        "best_month = sales_by_month_sorted.index[0]\n",
        "\n",
        "\n",
        "print(f\"The best month for sales historically is: {best_month}\")"
      ],
      "metadata": {
        "colab": {
          "base_uri": "https://localhost:8080/"
        },
        "id": "xlLqsFqYHqNX",
        "outputId": "6cd82650-ffab-4f77-f43e-a10abca33b6e"
      },
      "execution_count": 95,
      "outputs": [
        {
          "output_type": "stream",
          "name": "stdout",
          "text": [
            "The best month for sales historically is: 1.0\n"
          ]
        }
      ]
    },
    {
      "cell_type": "markdown",
      "metadata": {
        "id": "ie0JW4FAk6Os"
      },
      "source": [
        "# Finished!\n",
        "\n",
        "Hope this was not too difficult and slicing and dicing the datasets was some fun. Now head on back to the course and provide the answers to the questions from this exercise."
      ]
    }
  ],
  "metadata": {
    "colab": {
      "name": "customers_and_orders.ipynb",
      "provenance": [],
      "toc_visible": true
    },
    "kernelspec": {
      "display_name": "Python 3 (ipykernel)",
      "language": "python",
      "name": "python3"
    },
    "language_info": {
      "codemirror_mode": {
        "name": "ipython",
        "version": 3
      },
      "file_extension": ".py",
      "mimetype": "text/x-python",
      "name": "python",
      "nbconvert_exporter": "python",
      "pygments_lexer": "ipython3",
      "version": "3.9.9"
    }
  },
  "nbformat": 4,
  "nbformat_minor": 0
}